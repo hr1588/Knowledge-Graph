{
 "cells": [
  {
   "cell_type": "code",
   "execution_count": 1,
   "metadata": {},
   "outputs": [],
   "source": [
    "import pandas as pd\n",
    "import nltk\n",
    "from nltk import Tree\n",
    "from konlpy.tag import *\n",
    "\n",
    "hannanum = Hannanum()\n",
    "kkma = Kkma()\n",
    "komoran = Komoran()\n",
    "okt = Okt()"
   ]
  },
  {
   "cell_type": "code",
   "execution_count": 191,
   "metadata": {},
   "outputs": [],
   "source": [
    "import nltk\n",
    "from nltk import Tree\n",
    "\n",
    "def process_chunk(chunk):\n",
    "    if isinstance(chunk, Tree):\n",
    "        return (' '.join(word for word, pos in chunk),'NP')\n",
    "    else:\n",
    "        return chunk"
   ]
  },
  {
   "cell_type": "code",
   "execution_count": 202,
   "metadata": {},
   "outputs": [
    {
     "name": "stdout",
     "output_type": "stream",
     "text": [
      "[('채널A', 'NNP'), ('노동조합', 'NNP'), ('과', 'JC'), ('사', 'NR'), ('측', 'NNB'), ('이', 'JKS'), ('2020', 'SN'), ('년대', 'NNB'), ('임금', 'NNP'), ('협상', 'NNP'), ('안', 'NNG'), ('을', 'JKO'), ('두', 'VV'), ('고', 'EC'), ('서로', 'MAG'), ('합의', 'NNG'), ('하', 'XSV'), ('지', 'EC'), ('못하', 'VX'), ('았', 'EP'), ('다', 'EF'), ('.', 'SF')]\n"
     ]
    }
   ],
   "source": [
    "parser_ko = nltk.RegexpParser(\"NP: {<N>*<N>*}\")\n",
    "chunk_ko = parser_ko.parse(tokens)\n",
    "processed_chunk_ko = [process_chunk(chunk) for chunk in chunk_ko]\n",
    "print(processed_chunk_ko)"
   ]
  },
  {
   "cell_type": "code",
   "execution_count": 200,
   "metadata": {},
   "outputs": [
    {
     "data": {
      "text/plain": [
       "[('채널A', 'NNP'),\n",
       " ('노동조합', 'NNP'),\n",
       " ('과', 'JC'),\n",
       " ('사', 'NR'),\n",
       " ('측', 'NNB'),\n",
       " ('이', 'JKS'),\n",
       " ('2020', 'SN'),\n",
       " ('년대', 'NNB'),\n",
       " ('임금', 'NNP'),\n",
       " ('협상', 'NNP'),\n",
       " ('안', 'NNG'),\n",
       " ('을', 'JKO'),\n",
       " ('두', 'VV'),\n",
       " ('고', 'EC'),\n",
       " ('서로', 'MAG'),\n",
       " ('합의', 'NNG'),\n",
       " ('하', 'XSV'),\n",
       " ('지', 'EC'),\n",
       " ('못하', 'VX'),\n",
       " ('았', 'EP'),\n",
       " ('다', 'EF'),\n",
       " ('.', 'SF')]"
      ]
     },
     "execution_count": 200,
     "metadata": {},
     "output_type": "execute_result"
    }
   ],
   "source": [
    "parser = nltk.RegexpParser(pattern)\n",
    "parser\n",
    "tokens"
   ]
  },
  {
   "cell_type": "code",
   "execution_count": 2,
   "metadata": {},
   "outputs": [],
   "source": [
    "data = pd.read_csv('result.csv',encoding='cp949')\n",
    "df1 = pd.read_csv('df1.csv',encoding='cp949')\n",
    "df2 = pd.read_csv('df2.csv',encoding='cp949')\n",
    "df3 = pd.read_csv('df3.csv',encoding='cp949')"
   ]
  },
  {
   "cell_type": "code",
   "execution_count": 3,
   "metadata": {},
   "outputs": [
    {
     "data": {
      "text/plain": [
       "'채널A 노동조합과 사측이 2020년도 임금협상안을 두고 서로 합의하지 못했다.'"
      ]
     },
     "execution_count": 3,
     "metadata": {},
     "output_type": "execute_result"
    }
   ],
   "source": [
    "sentences = df3['0'].tolist()\n",
    "sentences[0]"
   ]
  },
  {
   "cell_type": "code",
   "execution_count": 173,
   "metadata": {},
   "outputs": [
    {
     "data": {
      "text/plain": [
       "[('채널A', 'NNP'),\n",
       " ('노동조합', 'NNP'),\n",
       " ('과', 'JC'),\n",
       " ('사', 'NR'),\n",
       " ('측', 'NNB'),\n",
       " ('이', 'JKS'),\n",
       " ('2020', 'SN'),\n",
       " ('년대', 'NNB'),\n",
       " ('임금', 'NNP'),\n",
       " ('협상', 'NNP'),\n",
       " ('안', 'NNG'),\n",
       " ('을', 'JKO'),\n",
       " ('두', 'VV'),\n",
       " ('고', 'EC'),\n",
       " ('서로', 'MAG'),\n",
       " ('합의', 'NNG'),\n",
       " ('하', 'XSV'),\n",
       " ('지', 'EC'),\n",
       " ('못하', 'VX'),\n",
       " ('았', 'EP'),\n",
       " ('다', 'EF'),\n",
       " ('.', 'SF')]"
      ]
     },
     "execution_count": 173,
     "metadata": {},
     "output_type": "execute_result"
    }
   ],
   "source": [
    "tokens"
   ]
  },
  {
   "cell_type": "code",
   "execution_count": 5,
   "metadata": {},
   "outputs": [
    {
     "name": "stdout",
     "output_type": "stream",
     "text": [
      "['채널A 노동조합 과 사 측 이']\n",
      "['2020 년대 임금 협상 안 을']\n",
      "['두 고 서로 합의 하 지 못하 았 다 .']\n"
     ]
    }
   ],
   "source": [
    "sent = []\n",
    "sub = []\n",
    "obj = []\n",
    "rel = []\n",
    "\n",
    "tokens = komoran.pos(sentences[0])\n",
    "\n",
    "for word, pos in tokens :\n",
    "    sent.append(word)\n",
    "    if pos =='JKO' or pos =='JKS' :\n",
    "        if pos =='JKS' :\n",
    "            sub.append(' '.join(sent))\n",
    "            sent = []\n",
    "        elif pos == 'JKO' :\n",
    "            obj.append(' '.join(sent))\n",
    "            sent = []\n",
    "if sent :\n",
    "    rel.append(' '.join(sent))\n",
    "\n",
    "print(sub)\n",
    "print(obj)\n",
    "print(rel)"
   ]
  },
  {
   "cell_type": "code",
   "execution_count": 294,
   "metadata": {},
   "outputs": [
    {
     "data": {
      "text/plain": [
       "[('채널A', 'NNP'),\n",
       " ('노동조합', 'NNP'),\n",
       " ('과', 'JC'),\n",
       " ('사', 'NR'),\n",
       " ('측', 'NNB'),\n",
       " ('이', 'JKS'),\n",
       " ('2020', 'SN'),\n",
       " ('년대', 'NNB'),\n",
       " ('임금', 'NNP'),\n",
       " ('협상', 'NNP'),\n",
       " ('안', 'NNG'),\n",
       " ('을', 'JKO'),\n",
       " ('두', 'VV'),\n",
       " ('고', 'EC'),\n",
       " ('서로', 'MAG'),\n",
       " ('합의', 'NNG'),\n",
       " ('하', 'XSV'),\n",
       " ('지', 'EC'),\n",
       " ('못하', 'VX'),\n",
       " ('았', 'EP'),\n",
       " ('다', 'EF'),\n",
       " ('.', 'SF')]"
      ]
     },
     "execution_count": 294,
     "metadata": {},
     "output_type": "execute_result"
    }
   ],
   "source": [
    "tokens = komoran.pos(sentences[0])\n",
    "tokens"
   ]
  },
  {
   "cell_type": "code",
   "execution_count": 18,
   "metadata": {},
   "outputs": [
    {
     "data": {
      "text/plain": [
       "'채널A 노동조합과 사측이 2020년도 임금협상안을 두고 서로 합의하지 못했다.'"
      ]
     },
     "execution_count": 18,
     "metadata": {},
     "output_type": "execute_result"
    }
   ],
   "source": [
    "sentences[0]"
   ]
  },
  {
   "cell_type": "code",
   "execution_count": 161,
   "metadata": {},
   "outputs": [
    {
     "data": {
      "text/plain": [
       "['채널A', '노동조합과', '사측이', '2020년도', '임금협상안을', '두고', '서로', '합의하지', '못했다.']"
      ]
     },
     "execution_count": 161,
     "metadata": {},
     "output_type": "execute_result"
    }
   ],
   "source": [
    "data10 = sentences[0].split()\n",
    "data10"
   ]
  },
  {
   "cell_type": "code",
   "execution_count": 101,
   "metadata": {},
   "outputs": [
    {
     "data": {
      "text/plain": [
       "[('올리', 'VV'), ('고', 'EC')]"
      ]
     },
     "execution_count": 101,
     "metadata": {},
     "output_type": "execute_result"
    }
   ],
   "source": [
    "tokens = komoran.pos(data10[14])\n",
    "tokens"
   ]
  },
  {
   "cell_type": "code",
   "execution_count": 78,
   "metadata": {},
   "outputs": [
    {
     "data": {
      "text/plain": [
       "'채널A 노동조합이 서울지방노동위원회에 노동쟁의 조정신청을 접수했다.'"
      ]
     },
     "execution_count": 78,
     "metadata": {},
     "output_type": "execute_result"
    }
   ],
   "source": [
    "sentences[1]"
   ]
  },
  {
   "cell_type": "code",
   "execution_count": 169,
   "metadata": {},
   "outputs": [
    {
     "name": "stdout",
     "output_type": "stream",
     "text": [
      "['노조가']\n",
      "['2019년부터 임금 및 단체협상을']\n",
      "['설립된', '진행하고']\n"
     ]
    }
   ],
   "source": [
    "data10 = sentences[4].split()\n",
    "\n",
    "sent = []\n",
    "sub = []\n",
    "obj = []\n",
    "rel = []\n",
    "\n",
    "for sentence in data10 :\n",
    "    tokens = komoran.pos(sentence)\n",
    "    sent.append(sentence)\n",
    "    for word, pos in tokens :\n",
    "        if pos == 'JKO'or pos =='JKS' :\n",
    "           if pos =='JKS' :\n",
    "               sub.append(' '.join(sent))   \n",
    "               sent = []\n",
    "               \n",
    "           elif pos =='JKO' :\n",
    "               obj.append(' '.join(sent))\n",
    "               sent = [] \n",
    "        if pos =='XSV' :\n",
    "            rel.append(' '.join(sent))\n",
    "            sent = []\n",
    "        if pos =='VV' :\n",
    "            rel.append(' '.join(sent))\n",
    "            sent = []     \n",
    "\n",
    "print(sub)\n",
    "print(obj)\n",
    "print(rel)"
   ]
  },
  {
   "cell_type": "code",
   "execution_count": 165,
   "metadata": {},
   "outputs": [
    {
     "name": "stdout",
     "output_type": "stream",
     "text": [
      "['채널A', '노동조합과', '사측이']\n",
      "['2020년도', '임금협상안을']\n",
      "['서로', '합의하지']\n"
     ]
    }
   ],
   "source": [
    "sub_text = sub[-1].split()\n",
    "obj_text = obj[-1].split()\n",
    "rel_text = rel[-1].split()\n",
    "print(sub_text)\n",
    "print(obj_text)\n",
    "print(rel_text)\n"
   ]
  },
  {
   "cell_type": "code",
   "execution_count": 134,
   "metadata": {},
   "outputs": [
    {
     "name": "stdout",
     "output_type": "stream",
     "text": [
      "[['채널A'], ['노동조합과'], [], ['사측이'], []]\n"
     ]
    }
   ],
   "source": [
    "sent = []\n",
    "subject = []\n",
    "object = []\n",
    "relation = []\n",
    "\n",
    "for sentence in sub_text :\n",
    "    tokens = komoran.pos(sentence)\n",
    "    sent.append(sentence)\n",
    "    word_list = [word for word, pos in tokens if pos != 'JKS']\n",
    "    joined_word = ''.join(word_list)\n",
    "        \n",
    "            subject.append(sent)\n",
    "            sent = [] \n",
    "            \n",
    "            \n",
    "            \n",
    "            \n",
    "           \n",
    "\n",
    "print(subject)\n"
   ]
  }
 ],
 "metadata": {
  "kernelspec": {
   "display_name": "Python 3",
   "language": "python",
   "name": "python3"
  },
  "language_info": {
   "codemirror_mode": {
    "name": "ipython",
    "version": 3
   },
   "file_extension": ".py",
   "mimetype": "text/x-python",
   "name": "python",
   "nbconvert_exporter": "python",
   "pygments_lexer": "ipython3",
   "version": "3.9.11"
  },
  "orig_nbformat": 4
 },
 "nbformat": 4,
 "nbformat_minor": 2
}
