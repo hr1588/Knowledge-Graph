{
 "cells": [
  {
   "cell_type": "code",
   "execution_count": 7,
   "metadata": {},
   "outputs": [
    {
     "name": "stderr",
     "output_type": "stream",
     "text": [
      "[nltk_data] Downloading package punkt to\n",
      "[nltk_data]     C:\\Users\\erich\\AppData\\Roaming\\nltk_data...\n",
      "[nltk_data]   Package punkt is already up-to-date!\n"
     ]
    },
    {
     "data": {
      "text/plain": [
       "True"
      ]
     },
     "execution_count": 7,
     "metadata": {},
     "output_type": "execute_result"
    }
   ],
   "source": [
    "import json\n",
    "import nltk\n",
    "import pandas as pd\n",
    "from konlpy.tag import *\n",
    "\n",
    "hannanum = Hannanum()\n",
    "kkma = Kkma()\n",
    "komoran = Komoran()\n",
    "okt = Okt()\n",
    "\n",
    "nltk.download('punkt') "
   ]
  },
  {
   "cell_type": "code",
   "execution_count": 2,
   "metadata": {},
   "outputs": [],
   "source": [
    "file_path = \"./NIKLNEWSPAPER_2022_v1.0\"\n",
    "\n",
    "with open('./NIKLNEWSPAPER_2022_v1.0/data.json', 'r', encoding='utf-8') as file:\n",
    "    json_data = json.load(file)"
   ]
  },
  {
   "cell_type": "code",
   "execution_count": 3,
   "metadata": {},
   "outputs": [],
   "source": [
    "df_list = []\n",
    "\n",
    "for document in json_data['document']:\n",
    "    if document['metadata']['topic'] == '경제':\n",
    "        for paragraph in document['paragraph']:\n",
    "            df_list.append(paragraph['form'])\n",
    "\n",
    "df = pd.DataFrame(df_list)"
   ]
  },
  {
   "cell_type": "code",
   "execution_count": 93,
   "metadata": {},
   "outputs": [],
   "source": [
    "df.to_csv('news_df.csv',encoding='cp949')"
   ]
  },
  {
   "attachments": {},
   "cell_type": "markdown",
   "metadata": {},
   "source": [
    "# 구두점 기점으로 문장 분리"
   ]
  },
  {
   "cell_type": "code",
   "execution_count": 5,
   "metadata": {},
   "outputs": [],
   "source": [
    "df_nltk = []\n",
    "for text in df_list : \n",
    "    sentences = nltk.sent_tokenize(text)\n",
    "    for sentence in sentences :\n",
    "        df_nltk.append(sentence)\n",
    "        \n",
    "df = pd.DataFrame(df_nltk)"
   ]
  },
  {
   "cell_type": "code",
   "execution_count": 105,
   "metadata": {},
   "outputs": [],
   "source": [
    "df.to_csv('news_sentence_df.csv',encoding='cp949')"
   ]
  },
  {
   "cell_type": "code",
   "execution_count": 35,
   "metadata": {},
   "outputs": [
    {
     "data": {
      "text/plain": [
       "['채널A 노조, 임금협상 결렬에 “쟁의조정 신청할 것”',\n",
       " '채널A 노동조합과 사측이 2020년도 임금협상안을 두고 서로 합의하지 못했다.',\n",
       " '지난 18일 채널A 노조는 사측과 마지막으로 2020년도 임금협상을 진행했으나 최종 결렬됐다.',\n",
       " '채널A 노조는 다음주 중 관련 서류를 준비해 관할 노동위원회에 노동쟁의조정신청서를 제출할 계획이다.',\n",
       " '노동쟁의 조정신청은 노조와 사측이 원만한 교섭을 통해 합의를 이루지 못하는 경우 노동위원회를 통해 구성된 조정위원회의 도움을 받아 다시 교섭 절차에 들어가는 행위다.',\n",
       " '만일 조정위원회에서도 노사 협상이 결렬되면 노조는 합법적인 쟁의(파업권)행위에 돌입할 수 있다.',\n",
       " '이날 저녁 노조는 조합원들에게 “2020년 임금협상이 오늘 2월18일자로 최종 결렬됐다.',\n",
       " '노조 집행부는 오늘 오후 긴급 중앙위원회를 열고 결렬을 선언하고 쟁의조정 신청을 결의했다 노사는 지난달 28일 이후 2주간 추가협상 기간을 가졌지만 최종 합의에 이르지 못했다”고 밝혔다.',\n",
       " '이어 노조는 “조합은 다음주 중 관련 서류를 준비해 관할 노동위원회에 조정신청서를 제출할 계획”이라고 덧붙였다.',\n",
       " '사측은 ‘임금인상률 2.2%와 일시성과급 0.3%’ 안을 제시했다.']"
      ]
     },
     "execution_count": 35,
     "metadata": {},
     "output_type": "execute_result"
    }
   ],
   "source": [
    "df_nltk[:10]"
   ]
  },
  {
   "cell_type": "code",
   "execution_count": 28,
   "metadata": {},
   "outputs": [],
   "source": [
    "df_pd = pd.DataFrame(exm,columns=['df_txt','df_pos'])\n",
    "a = df_pd['df_pos']"
   ]
  },
  {
   "cell_type": "code",
   "execution_count": 69,
   "metadata": {},
   "outputs": [],
   "source": [
    "df_J = []\n",
    "\n",
    "for sentence in df_nltk:\n",
    "    exm = komoran.pos(sentence)\n",
    "    df_pd = pd.DataFrame(exm, columns=['df_txt', 'df_pos'])\n",
    "    df_pos = df_pd['df_pos']\n",
    "    if 'JKS' in df_pos == True and 'JKO' in df_pos == True:\n",
    "        df_J.append(sentence)"
   ]
  },
  {
   "cell_type": "code",
   "execution_count": 73,
   "metadata": {},
   "outputs": [
    {
     "data": {
      "text/plain": [
       "False"
      ]
     },
     "execution_count": 73,
     "metadata": {},
     "output_type": "execute_result"
    }
   ],
   "source": [
    "exm = komoran.pos(data)\n",
    "df_pd = pd.DataFrame(exm, columns=['df_txt', 'df_pos'])\n",
    "df_pd"
   ]
  },
  {
   "cell_type": "code",
   "execution_count": 135,
   "metadata": {},
   "outputs": [],
   "source": [
    "result = []\n",
    "for sentence in df_nltk:\n",
    "    tokens = komoran.pos(sentence)\n",
    "    pos_tags = [pos for word, pos in tokens]\n",
    "    if 'JKS' in pos_tags and 'JKO' in pos_tags:\n",
    "        result.append(sentence)\n"
   ]
  },
  {
   "cell_type": "code",
   "execution_count": 90,
   "metadata": {},
   "outputs": [
    {
     "data": {
      "text/plain": [
       "1648"
      ]
     },
     "execution_count": 90,
     "metadata": {},
     "output_type": "execute_result"
    }
   ],
   "source": [
    "len(df_nltk)"
   ]
  },
  {
   "cell_type": "code",
   "execution_count": 89,
   "metadata": {},
   "outputs": [
    {
     "data": {
      "text/plain": [
       "687"
      ]
     },
     "execution_count": 89,
     "metadata": {},
     "output_type": "execute_result"
    }
   ],
   "source": [
    "len(result)"
   ]
  },
  {
   "cell_type": "code",
   "execution_count": 96,
   "metadata": {},
   "outputs": [],
   "source": [
    "result = pd.DataFrame(result)\n",
    "result.to_csv('result.csv',encoding='cp949')"
   ]
  },
  {
   "cell_type": "code",
   "execution_count": 140,
   "metadata": {},
   "outputs": [],
   "source": [
    "df1 = []\n",
    "df2 = []\n",
    "\n",
    "for sentence in result:\n",
    "    tokens = komoran.pos(sentence)\n",
    "    pos_tags = [pos for word, pos in tokens]\n",
    "    \n",
    "    if pos_tags.count('JKS') == 1 and pos_tags.count('JKO') == 1:\n",
    "        df1.append(sentence)\n",
    "    else:\n",
    "        df2.append(sentence)"
   ]
  },
  {
   "cell_type": "code",
   "execution_count": null,
   "metadata": {},
   "outputs": [],
   "source": [
    "df1 = pd.DataFrame(df1)\n",
    "df1.to_csv('df1.csv',encoding='cp949')"
   ]
  },
  {
   "cell_type": "code",
   "execution_count": 115,
   "metadata": {},
   "outputs": [],
   "source": [
    "df2 = pd.DataFrame(df2)\n",
    "df2.to_csv('df2.csv',encoding='cp949')"
   ]
  },
  {
   "cell_type": "code",
   "execution_count": 166,
   "metadata": {},
   "outputs": [
    {
     "data": {
      "text/plain": [
       "158"
      ]
     },
     "execution_count": 166,
     "metadata": {},
     "output_type": "execute_result"
    }
   ],
   "source": [
    "df3 = []\n",
    "for text in df1 :\n",
    "    if '“' in text :\n",
    "        continue\n",
    "    else :\n",
    "        df3.append(text)\n",
    "        \n",
    "len(df3)"
   ]
  },
  {
   "cell_type": "code",
   "execution_count": 167,
   "metadata": {},
   "outputs": [],
   "source": [
    "df3 = pd.DataFrame(df3)\n",
    "df3.to_csv('df3.csv',encoding='cp949')"
   ]
  }
 ],
 "metadata": {
  "kernelspec": {
   "display_name": "Python 3",
   "language": "python",
   "name": "python3"
  },
  "language_info": {
   "codemirror_mode": {
    "name": "ipython",
    "version": 3
   },
   "file_extension": ".py",
   "mimetype": "text/x-python",
   "name": "python",
   "nbconvert_exporter": "python",
   "pygments_lexer": "ipython3",
   "version": "3.9.11"
  },
  "orig_nbformat": 4
 },
 "nbformat": 4,
 "nbformat_minor": 2
}
